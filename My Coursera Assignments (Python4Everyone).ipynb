{
 "cells": [
  {
   "cell_type": "markdown",
   "metadata": {},
   "source": [
    "Coursera Python for Everyone Assignment"
   ]
  },
  {
   "cell_type": "markdown",
   "metadata": {},
   "source": [
    "# GETTING STARTED WITH PYTHON"
   ]
  },
  {
   "cell_type": "markdown",
   "metadata": {},
   "source": [
    "1.1 Write a program that uses a print statement to say 'hello world' as shown in 'Desired Output'.\n"
   ]
  },
  {
   "cell_type": "code",
   "execution_count": 4,
   "metadata": {},
   "outputs": [
    {
     "name": "stdout",
     "output_type": "stream",
     "text": [
      "hello world\n"
     ]
    }
   ],
   "source": [
    "print(\"hello world\")      # This statement uses the built-in print function to display 'hello world'"
   ]
  },
  {
   "cell_type": "markdown",
   "metadata": {},
   "source": [
    "2.2 Write a program that uses input to prompt a user for their name and then welcomes them.\n",
    "    Note that input will pop up a dialog box.\n",
    "    Enter Sarah in the pop-up box when you are prompted so your output will match the desired output.\n"
   ]
  },
  {
   "cell_type": "code",
   "execution_count": 5,
   "metadata": {},
   "outputs": [
    {
     "name": "stdout",
     "output_type": "stream",
     "text": [
      "Enter your name: David\n",
      "Hello David\n",
      "Hello David\n",
      "Hello David\n"
     ]
    }
   ],
   "source": [
    " # This statement takes the input from a user and stores in the variable name.\n",
    "name = input(\"Enter your name: \")     \n",
    "print(\"Hello\", name)\n",
    "\n",
    "# another way to output string by concatenation\n",
    "print(\"Hello \" + name)\n",
    "\n",
    "# another way to output string by string formatting\n",
    "print(f\"Hello {name}\")\n"
   ]
  },
  {
   "cell_type": "markdown",
   "metadata": {},
   "source": [
    "2.3 Write a program to prompt the user for hours and rate per hour using input to compute gross pay. Use 35 hours and a rate of 2.75 per hour to test the program (the pay should be 96.25). You should use input to read a string and float() to convert the string to a number. Do not worry about error checking or bad user data."
   ]
  },
  {
   "cell_type": "code",
   "execution_count": 6,
   "metadata": {},
   "outputs": [
    {
     "name": "stdout",
     "output_type": "stream",
     "text": [
      "Enter number of hours: 35\n",
      "Enter rate: 2.75\n",
      "Pay: 96.25\n"
     ]
    }
   ],
   "source": [
    "# Ask the user input which is usually a string and convert the input to float data type\n",
    "user_input1 = input(\"Enter number of hours: \")\n",
    "hours = float(user_input1)\n",
    "\n",
    "# Ask for user input which is usually a string and convert the input to float data type\n",
    "user_input2 = input(\"Enter rate: \")\n",
    "rate = float(user_input2)\n",
    "\n",
    "# Compute the grosspay and print the results\n",
    "grossPay = hours * rate\n",
    "print(\"Pay:\", grossPay)"
   ]
  },
  {
   "cell_type": "markdown",
   "metadata": {},
   "source": [
    "3.1 Write a program to prompt the user for hours and rate per hour using input to compute gross pay. \n",
    "Pay the hourly rate for the hours up to 40 and 1.5 times the hourly rate for all hours worked above 40 hours. \n",
    "Use 45 hours and a rate of 10.50 per hour to test the program (the pay should be 498.75).\n",
    "You should use input to read a string and float() to convert the string to a number.\n",
    "Do not worry about error checking the user input - assume the user types numbers properly.\n",
    "\n",
    "\n"
   ]
  },
  {
   "cell_type": "code",
   "execution_count": 8,
   "metadata": {},
   "outputs": [
    {
     "name": "stdout",
     "output_type": "stream",
     "text": [
      "Enter number of hours: 45\n",
      "Enter rate: 10.50\n",
      "Pay: 498.75\n"
     ]
    }
   ],
   "source": [
    "# Ask the user input which is usually a string and convert the input to float data type\n",
    "hours_input = input(\"Enter number of hours: \")\n",
    "hours = float(hours_input)\n",
    "\n",
    "# Ask for user input which is usually a string and convert the input to float data type\n",
    "rate_input = input(\"Enter rate: \")\n",
    "rate = float(rate_input)\n",
    "\n",
    "# Check if user worked beyond 40 hours and compute grosspay accordingly\n",
    "if hours > 40:\n",
    "    grossPay = (40 * rate) + (rate * 1.5) * (hours - 40)\n",
    "else:\n",
    "    grossPay = hours * rate\n",
    "\n",
    "print(\"Pay:\", grossPay)\n"
   ]
  },
  {
   "cell_type": "markdown",
   "metadata": {},
   "source": [
    " 3.3 Write a program to prompt for a score between 0.0 and 1.0. If the score is out of range, print an error.\n",
    "If the score is between 0.0 and 1.0, print a grade using the following table:\n",
    "    \n",
    "    Score Grade\n",
    "    >= 0.9 A\n",
    "    >= 0.8 B\n",
    "    >= 0.7 C\n",
    "    >= 0.6 D\n",
    "    < 0.6 F\n",
    "    \n",
    "If the user enters a value out of range, print a suitable error message and exit.\n",
    "For the test, enter a score of 0.85.\n"
   ]
  },
  {
   "cell_type": "code",
   "execution_count": 9,
   "metadata": {},
   "outputs": [
    {
     "name": "stdout",
     "output_type": "stream",
     "text": [
      "Enter your score: 0.2\n",
      "E\n"
     ]
    }
   ],
   "source": [
    "# use try and except to detect any error in the program and exit gracefully\n",
    "try:\n",
    "    score = float(input('Enter your score: '))   # takes score from the user and converts to float data type\n",
    "except:\n",
    "    print('Invalid Input, Try again')\n",
    "    exit()\n",
    "\n",
    "# Checks to see if score falls in range and prints out results accordingly\n",
    "if 0.9 <= score < 1.0:\n",
    "    print('A')\n",
    "elif 0.8 <= score < 0.9:\n",
    "    print('B')\n",
    "elif 0.7 <= score < 0.8:\n",
    "    print('C')\n",
    "elif 0.6 <= score < 0.7:\n",
    "    print('D')\n",
    "elif 0.6 > score > 0.0:\n",
    "    print('E')\n",
    "else:\n",
    "    print('Incorrect Score')\n"
   ]
  },
  {
   "cell_type": "markdown",
   "metadata": {},
   "source": [
    "4.6 Write a program to prompt the user for hours and rate per hour using input to compute gross pay.\n",
    "    Pay should be the normal rate for hours up to 40\n",
    "    and time-and-a-half for the hourly rate for all hours worked above 40 hours.\n",
    "    Put the logic to do the computation of pay in a function called computepay()\n",
    "    and use the function to do the computation.The function should return a value.\n",
    "    Use 45 hours and a rate of 10.50 per hour to test the program (the pay should be 498.75).\n",
    "    You should use input to read a string and float() to convert the string to a number.\n",
    "    Do not worry about error checking the user input unless you want to -\n",
    "    you can assume the user types numbers properly. Do not name your variable sum or use the sum() function.\n",
    "\n",
    "\n"
   ]
  },
  {
   "cell_type": "code",
   "execution_count": 10,
   "metadata": {},
   "outputs": [
    {
     "name": "stdout",
     "output_type": "stream",
     "text": [
      "Enter number of hours: 45\n",
      "Enter rate: 10.50\n",
      "Pay is 498.75\n"
     ]
    }
   ],
   "source": [
    "def computepay(hours, rate):         # define a function computepay\n",
    "\n",
    "    # Check if user worked beyond 40 hours and compute grosspay accordingly\n",
    "    if hours > 40:\n",
    "        grosspay = (rate * 40) + (rate * 1.5) * (hours - 40)\n",
    "    else:\n",
    "        grosspay = hours * rate\n",
    "    return grosspay\n",
    "\n",
    "\n",
    "# Ask the user input which is usually a string and convert the input to float data type\n",
    "hours_input = input(\"Enter number of hours: \")\n",
    "my_hours = float(hours_input)\n",
    "\n",
    "# Ask for user input which is usually a string and convert the input to float data type\n",
    "rate_input= input(\"Enter rate: \")\n",
    "my_rate = float(rate_input)\n",
    "\n",
    "\n",
    "Pay = computepay(my_hours, my_rate)      # function call with arguments\n",
    "\n",
    "# the return value from the function is stored in the variable 'Pay' and is printed out\n",
    "print(\"Pay is\", Pay)\n"
   ]
  },
  {
   "cell_type": "markdown",
   "metadata": {},
   "source": [
    "5.2 Write a program that repeatedly prompts a user for integer numbers until the user enters 'done'.\n",
    "    Once 'done' is entered, print out the largest and smallest of the numbers.\n",
    "    If the user enters anything other than a valid number catch it with a try/except\n",
    "    and put out an appropriate message and ignore the number.\n",
    "    Enter 7, 2, bob, 10, and 4 and match the output below.\n"
   ]
  },
  {
   "cell_type": "code",
   "execution_count": 14,
   "metadata": {},
   "outputs": [
    {
     "name": "stdout",
     "output_type": "stream",
     "text": [
      "Enter a number: 3\n",
      "Enter a number: 11\n",
      "Enter a number: 54\n",
      "Enter a number: 2\n",
      "Enter a number: 0\n",
      "Enter a number: Done\n",
      "Maximum number is 54\n",
      "Minimum number is 0\n"
     ]
    }
   ],
   "source": [
    "largest = None\n",
    "smallest = None\n",
    "\n",
    "while True:                      # an infinite loop to keep the program running\n",
    "    user_input = input(\"Enter a number: \")\n",
    "    if user_input == \"done\" or user_input == \"Done\":\n",
    "        break                   # if user input is done, the loop ends\n",
    "\n",
    "# catch an exception when there is an error. continue allows the loop to restart without executing remaining codes.\n",
    "    try:\n",
    "        user_number= int(user_input)\n",
    "    except:\n",
    "        print(\"Invalid input. Enter a valid number or 'done'\")\n",
    "        continue\n",
    "\n",
    "# checks if user input number is largest or smallest\n",
    "    if smallest == None and largest == None:\n",
    "        smallest = user_number\n",
    "        largest = user_number\n",
    "    elif user_number > largest:\n",
    "        largest = user_number\n",
    "    elif user_number < smallest:\n",
    "        smallest = user_number\n",
    "\n",
    "print(f\"Maximum number is {largest}\")\n",
    "print(f\"Minimum number is {smallest}\")\n"
   ]
  },
  {
   "cell_type": "markdown",
   "metadata": {},
   "source": [
    "# PYTHON DATA STRUCTURES"
   ]
  },
  {
   "cell_type": "markdown",
   "metadata": {},
   "source": [
    " 6.5 Write code using find() and string slicing(see section 6.10)\n",
    "    to extract the number at the end of the line below.\n",
    "    Convert the extracted value to a floating point number and print it out."
   ]
  },
  {
   "cell_type": "code",
   "execution_count": 16,
   "metadata": {},
   "outputs": [
    {
     "name": "stdout",
     "output_type": "stream",
     "text": [
      "0.8475\n"
     ]
    }
   ],
   "source": [
    "text = \"X-DSPAM-Confidence: 0.8475\"\n",
    "\n",
    "# Use the find method to locate the position of a character and extract the number by string slicing\n",
    "text_pos = text.find(':')\n",
    "\n",
    "# the string number is converted to float and printed out\n",
    "number_extract = float(text[text_pos+2:])\n",
    "print(number_extract)\n"
   ]
  },
  {
   "cell_type": "markdown",
   "metadata": {},
   "source": [
    " 7.1 Write a program that prompts for a file name, then opens that file and reads through the file,\n",
    "    and print the contents of the file in upper case.\n",
    "    Use the file words.txt to produce the output below.\n"
   ]
  },
  {
   "cell_type": "code",
   "execution_count": 18,
   "metadata": {
    "scrolled": true
   },
   "outputs": [
    {
     "name": "stdout",
     "output_type": "stream",
     "text": [
      "Enter file name: words.txt\n",
      "WRITING PROGRAMS OR PROGRAMMING IS A VERY CREATIVE\n",
      "AND REWARDING ACTIVITY  YOU CAN WRITE PROGRAMS FOR\n",
      "MANY REASONS RANGING FROM MAKING YOUR LIVING TO SOLVING\n",
      "A DIFFICULT DATA ANALYSIS PROBLEM TO HAVING FUN TO HELPING\n",
      "SOMEONE ELSE SOLVE A PROBLEM  THIS BOOK ASSUMES THAT\n",
      "{\\EM EVERYONE} NEEDS TO KNOW HOW TO PROGRAM AND THAT ONCE\n",
      "YOU KNOW HOW TO PROGRAM, YOU WILL FIGURE OUT WHAT YOU WANT\n",
      "TO DO WITH YOUR NEWFOUND SKILLS\n",
      "\n",
      "WE ARE SURROUNDED IN OUR DAILY LIVES WITH COMPUTERS RANGING\n",
      "FROM LAPTOPS TO CELL PHONES  WE CAN THINK OF THESE COMPUTERS\n",
      "AS OUR PERSONAL ASSISTANTS WHO CAN TAKE CARE OF MANY THINGS\n",
      "ON OUR BEHALF  THE HARDWARE IN OUR CURRENT-DAY COMPUTERS\n",
      "IS ESSENTIALLY BUILT TO CONTINUOUSLY ASK US THE QUESTION\n",
      "WHAT WOULD YOU LIKE ME TO DO NEXT\n",
      "\n",
      "OUR COMPUTERS ARE FAST AND HAVE VASTS AMOUNTS OF MEMORY AND \n",
      "COULD BE VERY HELPFUL TO US IF WE ONLY KNEW THE LANGUAGE TO \n",
      "SPEAK TO EXPLAIN TO THE COMPUTER WHAT WE WOULD LIKE IT TO \n",
      "DO NEXT IF WE KNEW THIS LANGUAGE WE COULD TELL THE \n",
      "COMPUTER TO DO TASKS ON OUR BEHALF THAT WERE REPTITIVE  \n",
      "INTERESTINGLY, THE KINDS OF THINGS COMPUTERS CAN DO BEST\n",
      "ARE OFTEN THE KINDS OF THINGS THAT WE HUMANS FIND BORING\n",
      "AND MIND-NUMBING\n",
      "\n"
     ]
    }
   ],
   "source": [
    "# ask user to enter the file name\n",
    "file_name = input(\"Enter file name: \")\n",
    "\n",
    "# open the file\n",
    "file = open(file_name)\n",
    "\n",
    "# read content of the file and convert to uppercase using the upper method\n",
    "file_content = file.read().upper()\n",
    "print(file_content)\n"
   ]
  },
  {
   "cell_type": "markdown",
   "metadata": {},
   "source": [
    "7.2 Write a program that prompts for a file name, then opens that file and reads through the file,\n",
    "    looking for lines of the form: X-DSPAM-Confidence: 0.8475\n",
    "    Count these lines and extract the floating point values from each of the lines\n",
    "    and compute the average of those values and produce an output as shown below.\n",
    "    Do not use the sum() function or a variable named sum in your solution.\n",
    "    You can download the sample data at http://www.py4e.com/code3/mbox-short.txt\n",
    "    when you are testing below enter mbox-short.txt as the file name.\n"
   ]
  },
  {
   "cell_type": "code",
   "execution_count": 1,
   "metadata": {},
   "outputs": [
    {
     "name": "stdout",
     "output_type": "stream",
     "text": [
      "Enter file name: mbox-short.txt\n",
      "Average spam confidence: 0.7507185185185187\n"
     ]
    }
   ],
   "source": [
    "# ask user for file name\n",
    "file_name = input(\"Enter file name: \")\n",
    "\n",
    "# open the file\n",
    "file = open(file_name)\n",
    "\n",
    "# set an initial value for count and total\n",
    "count = 0\n",
    "total = 0\n",
    "\n",
    "# loop through file using the for loop\n",
    "for line in file:\n",
    "    line = line.rstrip()                                # strip the file of all whitespaces to the right of text\n",
    "    if not line.startswith(\"X-DSPAM-Confidence:\"):      # skip all lines not starting with X-DSPAM.....\n",
    "        continue\n",
    "    first_pos = line.find(\":\")                          # find position of a string character\n",
    "    number = line[first_pos+2:]                         # use string slicing to extract string\n",
    "    count += 1                                          # increment count\n",
    "    total = total + float(number)                       # convert extracted number to float and add to total\n",
    "\n",
    "print(\"Average spam confidence:\", total/count)\n"
   ]
  },
  {
   "cell_type": "markdown",
   "metadata": {},
   "source": [
    "8.4 Open the file romeo.txt and read it line by line. For each line,\n",
    "    split the line into a list of words using the split() method.\n",
    "    The program should build a list of words.\n",
    "    For each word on each line check to see if the word is already in the list and if not append it to the list.\n",
    "    When the program completes, sort and print the resulting words in alphabetical order.\n",
    "    You can download the sample data at http://www.py4e.com/code3/romeo.txt"
   ]
  },
  {
   "cell_type": "code",
   "execution_count": 2,
   "metadata": {},
   "outputs": [
    {
     "name": "stdout",
     "output_type": "stream",
     "text": [
      "Enter file name: romeo.txt\n",
      "['breaks', 'grief', 'moon', 'sun']\n"
     ]
    }
   ],
   "source": [
    "file_name = input(\"Enter file name: \")\n",
    "file = open(file_name)\n",
    "my_list = []                              # create an empty list\n",
    "for line in file:\n",
    "    line.rstrip()\n",
    "    words = line.split()                  # splits the lines into words\n",
    "    for word in words:\n",
    "        if word in my_list:\n",
    "            continue                      # skip words in the list\n",
    "    my_list.append(word)                  # if word is not in the empty list, add that word to the list\n",
    "    my_list.sort()                        # sort the list\n",
    "print(my_list)\n"
   ]
  },
  {
   "cell_type": "markdown",
   "metadata": {},
   "source": [
    "8.5 Open the file mbox-short.txt and read it line by line.\n",
    "    When you find a line that starts with 'From ' like the following line:\n",
    "    From stephen.marquard@uct.ac.za Sat Jan  5 09:14:16 2008\n",
    "    You will parse the From line using split() and print out the second word in the line\n",
    "    (i.e. the entire address of the person who sent the message).\n",
    "    Then print out a count at the end. Hint: make sure not to include the lines that start with 'From:'.\n",
    "    You can download the sample data at http://www.py4e.com/code3/mbox-short.txt"
   ]
  },
  {
   "cell_type": "code",
   "execution_count": 3,
   "metadata": {
    "scrolled": true
   },
   "outputs": [
    {
     "name": "stdout",
     "output_type": "stream",
     "text": [
      "Enter the file name: mbox-short.txt\n",
      "stephen.marquard@uct.ac.za\n",
      "louis@media.berkeley.edu\n",
      "zqian@umich.edu\n",
      "rjlowe@iupui.edu\n",
      "zqian@umich.edu\n",
      "rjlowe@iupui.edu\n",
      "cwen@iupui.edu\n",
      "cwen@iupui.edu\n",
      "gsilver@umich.edu\n",
      "gsilver@umich.edu\n",
      "zqian@umich.edu\n",
      "gsilver@umich.edu\n",
      "wagnermr@iupui.edu\n",
      "zqian@umich.edu\n",
      "antranig@caret.cam.ac.uk\n",
      "gopal.ramasammycook@gmail.com\n",
      "david.horwitz@uct.ac.za\n",
      "david.horwitz@uct.ac.za\n",
      "david.horwitz@uct.ac.za\n",
      "david.horwitz@uct.ac.za\n",
      "stephen.marquard@uct.ac.za\n",
      "louis@media.berkeley.edu\n",
      "louis@media.berkeley.edu\n",
      "ray@media.berkeley.edu\n",
      "cwen@iupui.edu\n",
      "cwen@iupui.edu\n",
      "cwen@iupui.edu\n",
      "There were 27 lines in the file with \"From\" as the first word\n"
     ]
    }
   ],
   "source": [
    "file_name = input(\"Enter the file name: \")\n",
    "file = open(file_name)\n",
    "count = 0\n",
    "for line in file:\n",
    "    line = line.rstrip()\n",
    "    if line.startswith('From '):\n",
    "        words = line.split()\n",
    "        print(words[1])                      # print only the second item in each list\n",
    "        count += 1\n",
    "print(f'There were {count} lines in the file with \"From\" as the first word')\n"
   ]
  },
  {
   "cell_type": "markdown",
   "metadata": {},
   "source": [
    " 9.4 Write a program to read through the mbox-short.txt\n",
    "        and figure out who has sent the greatest number of mail messages.\n",
    "        The program looks for 'From ' lines and takes the second word of those lines as the person who sent the mail.\n",
    "        The program creates a Python dictionary that maps the sender's mail address\n",
    "        to a count of the number of times they appear in the file. After the dictionary is produced,\n",
    "        the program reads through the dictionary using a maximum loop to find the most prolific committer."
   ]
  },
  {
   "cell_type": "code",
   "execution_count": 4,
   "metadata": {},
   "outputs": [
    {
     "name": "stdout",
     "output_type": "stream",
     "text": [
      "Enter the file name: mbox-short.txt\n",
      "{'stephen.marquard@uct.ac.za': 2, 'louis@media.berkeley.edu': 3, 'zqian@umich.edu': 4, 'rjlowe@iupui.edu': 2, 'cwen@iupui.edu': 5, 'gsilver@umich.edu': 3, 'wagnermr@iupui.edu': 1, 'antranig@caret.cam.ac.uk': 1, 'gopal.ramasammycook@gmail.com': 1, 'david.horwitz@uct.ac.za': 4, 'ray@media.berkeley.edu': 1}\n",
      "cwen@iupui.edu 5\n"
     ]
    }
   ],
   "source": [
    "file_name = input(\"Enter the file name: \")\n",
    "my_file = open(file_name)\n",
    "\n",
    "my_dict = dict()                # create empty dictionary using dict constructor\n",
    "for line in my_file:\n",
    "    line = line.rstrip()\n",
    "    if not line.startswith(\"From \"):\n",
    "        continue\n",
    "    words = line.split()\n",
    "    for word in words:\n",
    "        if not word == words[1]:\n",
    "            continue\n",
    "        if word not in my_dict:\n",
    "            my_dict[word] = 1\n",
    "        else:\n",
    "            my_dict[word] += 1 \n",
    "\n",
    "        # or use the get method i.e my_dict[word] = my_dict.get(word, 0) + 1\n",
    "\n",
    "print(my_dict)\n",
    "\n",
    "my_email = None\n",
    "email_count = None\n",
    "for key, val in list(my_dict.items()):             # my_dict.items() creates a list of tuples with both key and value\n",
    "    if email_count == None or val > email_count:   # checks for most prolific committer\n",
    "        my_email = key\n",
    "        email_count = val\n",
    "\n",
    "print(my_email, email_count)                       # print the email and count of the most prolific committer\n",
    "\n",
    "\n"
   ]
  },
  {
   "cell_type": "markdown",
   "metadata": {},
   "source": [
    "10.2 Write a program to read through the mbox-short.txt and\n",
    "    figure out the distribution by hour of the day for each of the messages.\n",
    "    You can pull the hour out from the 'From ' line by finding the time and\n",
    "    then splitting the string a second time using a colon.\n",
    "\n",
    "    From stephen.marquard@uct.ac.za Sat Jan  5 09:14:16 2008\n",
    "\n",
    "    Once you have accumulated the counts for each hour, print out the counts, sorted by hour as shown below."
   ]
  },
  {
   "cell_type": "code",
   "execution_count": 5,
   "metadata": {},
   "outputs": [
    {
     "name": "stdout",
     "output_type": "stream",
     "text": [
      "Enter file name: mbox-short.txt\n",
      "04 3\n",
      "06 1\n",
      "07 1\n",
      "09 2\n",
      "10 3\n",
      "11 6\n",
      "14 1\n",
      "15 2\n",
      "16 4\n",
      "17 2\n",
      "18 1\n",
      "19 1\n"
     ]
    }
   ],
   "source": [
    "file_name = input('Enter file name: ')\n",
    "\n",
    "try:\n",
    "    my_file = open(file_name)\n",
    "except:\n",
    "    print('File cannot be opened:', file_name)\n",
    "    exit()\n",
    "\n",
    "hour_time = dict()\n",
    "for line in my_file:\n",
    "    if line.startswith('From '):\n",
    "        line = line.split()\n",
    "        time = line[5]\n",
    "        time = time.split(':')                  # split the extracted time by the colon delimiter\n",
    "        hour = time[0]\n",
    "        hour_time[hour] = hour_time.get(hour, 0) + 1    # add extracted hour to the dictionary\n",
    "\n",
    "# dictionaries are converted to list of tuples in order to sort the elements\n",
    "\n",
    "hourslist = []\n",
    "for hour, count in hour_time.items():\n",
    "    hourslist.append((hour, count))\n",
    "\n",
    "hourslist.sort()\n",
    "\n",
    "for hour, count in hourslist:\n",
    "    print(hour, count)\n"
   ]
  },
  {
   "cell_type": "markdown",
   "metadata": {},
   "source": [
    "# USING PYTHON TO ACCESS THE WEB"
   ]
  },
  {
   "cell_type": "markdown",
   "metadata": {},
   "source": [
    "WEEK 2"
   ]
  },
  {
   "cell_type": "code",
   "execution_count": 1,
   "metadata": {},
   "outputs": [
    {
     "name": "stdout",
     "output_type": "stream",
     "text": [
      "Enter File name: regex_sum_463996.txt\n",
      "There are 95 values with a sum = 474029\n"
     ]
    }
   ],
   "source": [
    "import re\n",
    "\n",
    "file_name = input('Enter File name: ')\n",
    "\n",
    "try:\n",
    "    my_file = open(file_name)\n",
    "except:\n",
    "    print('File cannot be opened:', file_name)\n",
    "    exit()\n",
    "\n",
    "total = 0\n",
    "count = 0\n",
    "for line in my_file:\n",
    "    line = line.rstrip()\n",
    "    number = re.findall('[0-9]+', line)\n",
    "    for value in number:\n",
    "        if len(value) > 0:\n",
    "            count = count + 1\n",
    "            total = total + int(number[0])\n",
    "\n",
    "print(f'There are {count} values with a sum = {total}')\n"
   ]
  },
  {
   "cell_type": "markdown",
   "metadata": {},
   "source": [
    "WEEK 3"
   ]
  },
  {
   "cell_type": "code",
   "execution_count": 2,
   "metadata": {
    "scrolled": false
   },
   "outputs": [
    {
     "name": "stdout",
     "output_type": "stream",
     "text": [
      "HTTP/1.1 400 Bad Request\r\n",
      "Date: Sat, 30 May 2020 19:40:21 GMT\r\n",
      "Server: Apache/2.4.18 (Ubuntu)\r\n",
      "Content-Length: 308\r\n",
      "Connection: close\r\n",
      "Content-Type: text/html; charset=iso-8859-1\r\n",
      "\r\n",
      "<!DOCTYPE HTML PUBLIC \"-//IETF//DTD HTML 2.0//EN\">\n",
      "<html><head>\n",
      "<title>400 Bad Request</title>\n",
      "</head><body>\n",
      "<h1>Bad Request</h1>\n",
      "<p>Your browser sent a request that this server could not understand.<br />\n",
      "</p>\n",
      "<hr>\n",
      "<address>Apache/2.4.18 (Ubuntu) Server at do1.dr-chuck.com Port 80</address>\n",
      "</body></html>\n",
      " "
     ]
    }
   ],
   "source": [
    "import socket\n",
    "\n",
    "pathway = socket.socket(socket.AF_INET, socket.SOCK_STREAM)\n",
    "pathway.connect(('data.pr4e.org', 80))\n",
    "data_file = 'GET http://data.pr4e.org/intro-short.txt HTTP/1.0\\n\\n'.encode()\n",
    "pathway.send(data_file)\n",
    "\n",
    "while True:\n",
    "    data = pathway.recv(512)\n",
    "    if len(data) < 1:\n",
    "        break\n",
    "    print(data.decode(), end=\" \")\n",
    "\n",
    "pathway.close()\n"
   ]
  },
  {
   "cell_type": "markdown",
   "metadata": {},
   "source": [
    "WEEK 4"
   ]
  },
  {
   "cell_type": "code",
   "execution_count": null,
   "metadata": {},
   "outputs": [],
   "source": [
    "Follow Links"
   ]
  },
  {
   "cell_type": "code",
   "execution_count": null,
   "metadata": {},
   "outputs": [],
   "source": [
    "from urllib.request import urlopen\n",
    "from bs4 import BeautifulSoup\n",
    "import ssl\n",
    "\n",
    "ctx = ssl.create_default_context()\n",
    "ctx.check_hostname = False\n",
    "ctx.verify_mode = ssl.CERT_NONE\n",
    "\n",
    "url = input(\"Enter url: \")\n",
    "count = int(input(\"Enter count: \"))\n",
    "position = int(input(\"Enter position: \"))\n",
    "\n",
    "\n",
    "names = []\n",
    "while count > 0:\n",
    "    print(f'Retrieving {url}')\n",
    "    html = urlopen(url, context=ctx).read()\n",
    "    soup = BeautifulSoup(html, \"html.parser\")\n",
    "    anchors = soup('a')\n",
    "    name = anchors[position-1].string\n",
    "    names.append(name)\n",
    "    url = anchors[position-1]['href']\n",
    "    count -= 1\n",
    "\n",
    "print(names[-1])\n"
   ]
  },
  {
   "cell_type": "markdown",
   "metadata": {},
   "source": [
    "Web Scrapping"
   ]
  },
  {
   "cell_type": "code",
   "execution_count": null,
   "metadata": {},
   "outputs": [],
   "source": [
    "import urllib.request, urllib.parse, urllib.error\n",
    "from bs4 import BeautifulSoup\n",
    "import ssl\n",
    "\n",
    "# Ignore SSL certificate errors\n",
    "ctx = ssl.create_default_context()\n",
    "ctx.check_hostname = False\n",
    "ctx.verify_mode = ssl.CERT_NONE\n",
    "\n",
    "url = input('Enter a url: ')\n",
    "html = urllib.request.urlopen(url, context=ctx).read()\n",
    "soup = BeautifulSoup(html, \"html.parser\")\n",
    "\n",
    "# Retrieve all of the anchor tags\n",
    "tags = soup('span')\n",
    "total = 0\n",
    "count = 0\n",
    "for tag in tags:\n",
    "    # Look at the parts of a tag\n",
    "    number = int(tag.text)\n",
    "    count += 1\n",
    "    total = total + number\n",
    "\n",
    "print(f'Count: {count}')\n",
    "print(f'Sum: {total}')"
   ]
  },
  {
   "cell_type": "markdown",
   "metadata": {},
   "source": [
    "WEEK 5"
   ]
  },
  {
   "cell_type": "code",
   "execution_count": null,
   "metadata": {
    "scrolled": true
   },
   "outputs": [
    {
     "name": "stdout",
     "output_type": "stream",
     "text": [
      "Enter location: University of Ghana\n",
      "Retrieving http://py4e-data.dr-chuck.net/xml?address=University+of+Ghana&key=42\n",
      "Retrieved 2322 characters\n",
      "<?xml version=\"1.0\" encoding=\"UTF-8\"?>\n",
      "<GeocodeResponse>\n",
      " <status>OK</status>\n",
      " <result>\n",
      "  <type>establishment</type>\n",
      "  <type>point_of_interest</type>\n",
      "  <type>university</type>\n",
      "  <formatted_address>Legon Boundary, Accra, Ghana</formatted_address>\n",
      "  <address_component>\n",
      "   <long_name>Legon Boundary</long_name>\n",
      "   <short_name>Legon Boundary</short_name>\n",
      "   <type>route</type>\n",
      "  </address_component>\n",
      "  <address_component>\n",
      "   <long_name>Ayawaso</long_name>\n",
      "   <short_name>Ayawaso</short_name>\n",
      "   <type>political</type>\n",
      "   <type>sublocality</type>\n",
      "   <type>sublocality_level_1</type>\n",
      "  </address_component>\n",
      "  <address_component>\n",
      "   <long_name>Accra</long_name>\n",
      "   <short_name>Accra</short_name>\n",
      "   <type>locality</type>\n",
      "   <type>political</type>\n",
      "  </address_component>\n",
      "  <address_component>\n",
      "   <long_name>Accra Metropolis</long_name>\n",
      "   <short_name>Accra Metropolis</short_name>\n",
      "   <type>administrative_area_level_2</type>\n",
      "   <type>political</type>\n",
      "  </address_component>\n",
      "  <address_component>\n",
      "   <long_name>Greater Accra Region</long_name>\n",
      "   <short_name>Greater Accra Region</short_name>\n",
      "   <type>administrative_area_level_1</type>\n",
      "   <type>political</type>\n",
      "  </address_component>\n",
      "  <address_component>\n",
      "   <long_name>Ghana</long_name>\n",
      "   <short_name>GH</short_name>\n",
      "   <type>country</type>\n",
      "   <type>political</type>\n",
      "  </address_component>\n",
      "  <geometry>\n",
      "   <location>\n",
      "    <lat>5.6505620</lat>\n",
      "    <lng>-0.1962244</lng>\n",
      "   </location>\n",
      "   <location_type>GEOMETRIC_CENTER</location_type>\n",
      "   <viewport>\n",
      "    <southwest>\n",
      "     <lat>5.6492130</lat>\n",
      "     <lng>-0.1975734</lng>\n",
      "    </southwest>\n",
      "    <northeast>\n",
      "     <lat>5.6519110</lat>\n",
      "     <lng>-0.1948754</lng>\n",
      "    </northeast>\n",
      "   </viewport>\n",
      "  </geometry>\n",
      "  <place_id>ChIJk77qun6c3w8RoMGYdOZXgtc</place_id>\n",
      "  <plus_code>\n",
      "   <global_code>6CQXMR23+6G</global_code>\n",
      "   <compound_code>MR23+6G Accra, Ghana</compound_code>\n",
      "  </plus_code>\n",
      "  <access_points>\n",
      "   <location>\n",
      "    <latitude>5.6502257</latitude>\n",
      "    <longitude>-0.1962273</longitude>\n",
      "   </location>\n",
      "   <place_id>ChIJjRaNWHec3w8RpJNdvND62wg</place_id>\n",
      "   <access_point_type>TYPE_SEGMENT</access_point_type>\n",
      "   <segment_position>0.1124932</segment_position>\n",
      "   <location_on_segment>\n",
      "    <latitude>5.6501627</latitude>\n",
      "    <longitude>-0.1962279</longitude>\n",
      "   </location_on_segment>\n",
      "  </access_points>\n",
      " </result>\n",
      "</GeocodeResponse>\n",
      "\n",
      "lat 5.6505620 lng -0.1962244\n",
      "Legon Boundary, Accra, Ghana\n"
     ]
    }
   ],
   "source": [
    "import urllib.request, urllib.parse, urllib.error\n",
    "import xml.etree.ElementTree as ET\n",
    "import ssl\n",
    "\n",
    "api_key = False\n",
    "# If you have a Google Places API key, enter it here\n",
    "# api_key = 'AIzaSy___IDByT70'\n",
    "# https://developers.google.com/maps/documentation/geocoding/intro\n",
    "\n",
    "if api_key is False:\n",
    "    api_key = 42\n",
    "    serviceurl = 'http://py4e-data.dr-chuck.net/xml?'\n",
    "else :\n",
    "    serviceurl = 'https://maps.googleapis.com/maps/api/geocode/xml?'\n",
    "\n",
    "# Ignore SSL certificate errors\n",
    "ctx = ssl.create_default_context()\n",
    "ctx.check_hostname = False\n",
    "ctx.verify_mode = ssl.CERT_NONE\n",
    "\n",
    "while True:\n",
    "    address = input('Enter location: ')\n",
    "    if len(address) < 1: break\n",
    "\n",
    "    parms = dict()\n",
    "    parms['address'] = address\n",
    "    if api_key is not False: parms['key'] = api_key\n",
    "    url = serviceurl + urllib.parse.urlencode(parms)\n",
    "    print('Retrieving', url)\n",
    "    uh = urllib.request.urlopen(url, context=ctx)\n",
    "\n",
    "    data = uh.read()\n",
    "    print('Retrieved', len(data), 'characters')\n",
    "    print(data.decode())\n",
    "    tree = ET.fromstring(data)\n",
    "\n",
    "    results = tree.findall('result')\n",
    "    lat = results[0].find('geometry').find('location').find('lat').text\n",
    "    lng = results[0].find('geometry').find('location').find('lng').text\n",
    "    location = results[0].find('formatted_address').text\n",
    "\n",
    "    print('lat', lat, 'lng', lng)\n",
    "    print(location)\n"
   ]
  },
  {
   "cell_type": "markdown",
   "metadata": {},
   "source": [
    "WEEK 6"
   ]
  },
  {
   "cell_type": "markdown",
   "metadata": {},
   "source": [
    "Json"
   ]
  },
  {
   "cell_type": "code",
   "execution_count": null,
   "metadata": {},
   "outputs": [],
   "source": [
    "import json\n",
    "import urllib.request, urllib.parse, urllib.error\n",
    "\n",
    "url = input(\"Enter your url: \")\n",
    "data = urllib.request.urlopen(url).read()\n",
    "\n",
    "info = json.loads(data)\n",
    "\n",
    "print(f'Retrieving {url}')\n",
    "\n",
    "count = 0\n",
    "total = 0\n",
    "for item in info['comments']:\n",
    "    count += 1\n",
    "    total += item['count']\n",
    "\n",
    "print (f'Total: {total}')\n",
    "print (f'Count: {count}')"
   ]
  },
  {
   "cell_type": "markdown",
   "metadata": {},
   "source": [
    "Geojson"
   ]
  },
  {
   "cell_type": "code",
   "execution_count": null,
   "metadata": {},
   "outputs": [],
   "source": [
    "import urllib.request, urllib.parse, urllib.error\n",
    "import json\n",
    "import ssl\n",
    "\n",
    "api_key = False\n",
    "\n",
    "if api_key is False:\n",
    "    api_key = 42\n",
    "    serviceurl = 'http://py4e-data.dr-chuck.net/json?'\n",
    "else:\n",
    "    serviceurl = 'https://maps.googleapis.com/maps/api/geocode/json?'\n",
    "\n",
    "ctx = ssl.create_default_context()\n",
    "ctx.check_hostname = False\n",
    "ctx.verify_mode = ssl.CERT_NONE\n",
    "\n",
    "while True:\n",
    "    address = input('Enter location: ')\n",
    "    if len(address) < 1: break\n",
    "    my_dict = dict()\n",
    "    my_dict['address'] = address\n",
    "    if api_key is not False: my_dict['key'] = api_key\n",
    "    url = serviceurl + urllib.parse.urlencode(my_dict)\n",
    "    print('Retrieving', url)\n",
    "\n",
    "    uh = urllib.request.urlopen(url, context=ctx)\n",
    "    data = uh.read().decode()\n",
    "    print('Retrieved', len(data), 'characters')\n",
    "\n",
    "    try:\n",
    "        js = json.loads(data)\n",
    "    except:\n",
    "        js = None\n",
    "\n",
    "    if not js or 'status' not in js or js['status'] != 'OK':\n",
    "        print('==== Failure To Retrieve ====')\n",
    "        print(data)\n",
    "        continue\n",
    "\n",
    "    print(json.dumps(js, indent=4))\n",
    "    location = js['results'][0]['place_id']\n",
    "    print(location)"
   ]
  },
  {
   "cell_type": "markdown",
   "metadata": {},
   "source": [
    "# USING DATABASES WITH PYTHON"
   ]
  },
  {
   "cell_type": "markdown",
   "metadata": {},
   "source": [
    "Database with python: Eamil count"
   ]
  },
  {
   "cell_type": "code",
   "execution_count": 1,
   "metadata": {},
   "outputs": [
    {
     "name": "stdout",
     "output_type": "stream",
     "text": [
      "Enter file name: mbox.txt\n",
      "iupui.edu 536\n",
      "umich.edu 491\n",
      "indiana.edu 178\n",
      "caret.cam.ac.uk 157\n",
      "vt.edu 110\n",
      "uct.ac.za 96\n",
      "media.berkeley.edu 56\n",
      "ufp.pt 28\n",
      "gmail.com 25\n",
      "et.gatech.edu 17\n"
     ]
    }
   ],
   "source": [
    "import sqlite3\n",
    "\n",
    "conn = sqlite3.connect('emaildb.sqlite')\n",
    "cur = conn.cursor()\n",
    "\n",
    "cur.execute('DROP TABLE IF EXISTS Counts')\n",
    "cur.execute('CREATE TABLE Counts (org TEXT, count INTEGER)')\n",
    "\n",
    "fname = input('Enter file name: ')\n",
    "if len(fname) < 1:\n",
    "    fname = 'mbox.txt'\n",
    "\n",
    "try:\n",
    "    my_file = open(fname)\n",
    "except:\n",
    "    print('File not available', fname)\n",
    "    exit()\n",
    "\n",
    "for line in my_file:\n",
    "    if not line.startswith('From: '):\n",
    "        continue\n",
    "    words = line.split()\n",
    "    email = words[1]\n",
    "    organization = email.split('@')\n",
    "    organization = organization[1]\n",
    "    cur.execute('SELECT count FROM Counts WHERE org = ? ', (organization,))\n",
    "    row = cur.fetchone()\n",
    "\n",
    "    if row is None:\n",
    "        cur.execute('''INSERT INTO Counts (org, count)\n",
    "                VALUES (?, 1)''', (organization,))\n",
    "    else:\n",
    "        cur.execute('UPDATE Counts SET count = count + 1 WHERE org = ?',\n",
    "                    (organization,))\n",
    "    conn.commit()\n",
    "\n",
    "sqlstr = 'SELECT org, count FROM Counts ORDER BY count DESC LIMIT 10'\n",
    "\n",
    "for row in cur.execute(sqlstr):\n",
    "    print(str(row[0]), row[1])\n",
    "\n",
    "cur.close()\n"
   ]
  },
  {
   "cell_type": "markdown",
   "metadata": {},
   "source": [
    "Database with python: Tracks database"
   ]
  },
  {
   "cell_type": "code",
   "execution_count": 3,
   "metadata": {},
   "outputs": [
    {
     "name": "stdout",
     "output_type": "stream",
     "text": [
      "Enter file name: Library.xml\n",
      "Dict count: 404\n",
      "Another One Bites The Dust Queen Greatest Hits Rock 55 100 217103\n",
      "Asche Zu Asche Rammstein Herzeleid Industrial 79 100 231810\n",
      "Beauty School Dropout Various Grease Soundtrack 48 100 239960\n",
      "Black Dog Led Zeppelin IV Rock 109 100 296620\n",
      "Bring The Boys Back Home Pink Floyd The Wall [Disc 2] Rock 33 100 87118\n",
      "Circles Bryan Lee Blues Is Funk 54 60 355369\n",
      "Comfortably Numb Pink Floyd The Wall [Disc 2] Rock 36 100 384130\n",
      "Crazy Little Thing Called Love Queen Greatest Hits Rock 38 100 163631\n",
      "Electric Funeral Black Sabbath Paranoid Metal 44 100 293015\n",
      "Fat Bottomed Girls Queen Greatest Hits Rock 38 100 257515\n",
      "For Those About To Rock (We Salute You) AC/DC Who Made Who Rock 84 100 353750\n",
      "Four Sticks Led Zeppelin IV Rock 84 100 284421\n",
      "Furious Angels Rob Dougan The Matrix Reloaded Soundtrack 54 100 330004\n",
      "Gelle Bryan Lee Blues Is Blues/R&B 45 60 199836\n",
      "Going To California Led Zeppelin IV Rock 100 100 215666\n",
      "Grease Various Grease Soundtrack 42 100 205792\n",
      "Hand of Doom Black Sabbath Paranoid Metal 36 100 429609\n",
      "Hells Bells AC/DC Who Made Who Rock 82 100 312946\n",
      "Hey You Pink Floyd The Wall [Disc 2] Rock 23 100 282305\n",
      "I Worry Bryan Lee Blues Is Blues/R&B 33 100 341315\n",
      "Iron Man Black Sabbath Paranoid Metal 39 100 358530\n",
      "Is There Anybody Out There? Pink Floyd The Wall [Disc 2] Rock 26 100 160679\n",
      "It was a Very Good Year Frank Sinatra Greatest Hits Easy Listening 39 100 268852\n",
      "Its Your Move Bryan Lee Blues Is Blues/R&B 40 100 245002\n",
      "Jack the Stripper/Fairies Wear Boots Black Sabbath Paranoid Metal 35 100 373995\n",
      "Killer Queen Queen Greatest Hits Rock 34 100 181368\n",
      "Laichzeit Rammstein Herzeleid Industrial 41 100 262844\n",
      "Let me Down Easy Bryan Lee Blues Is Blues/R&B 43 100 331441\n",
      "Misty Mountain Hop Led Zeppelin IV Rock 88 100 278831\n",
      "No Low Down Bryan Lee Blues Is Blues/R&B 39 100 245760\n",
      "Now You Are Gone America Greatest Hits Easy Listening 52 100 187559\n",
      "Outside The Wall Pink Floyd The Wall [Disc 2] Rock 16 100 104437\n",
      "Paranoid Black Sabbath Paranoid Metal 36 100 172930\n",
      "Planet Caravan Black Sabbath Paranoid Metal 38 100 274938\n",
      "Pretty Jeanie Bryan Lee Blues Is Blues/R&B 34 100 225175\n",
      "Rammstein Rammstein Herzeleid Industrial 45 100 265090\n",
      "Rat Salad Black Sabbath Paranoid Metal 46 100 150230\n",
      "Rock & Roll Led Zeppelin IV Rock 109 100 220891\n",
      "Rode Across the Desert America Greatest Hits Easy Listening 60 100 249887\n",
      "Sandy Various Grease Soundtrack 36 100 155742\n",
      "Shake Your Foundations AC/DC Who Made Who Rock 85 100 233769\n",
      "Sister Golden Hair America Greatest Hits Easy Listening 60 100 202057\n",
      "Somebody To Love Queen Greatest Hits Rock 17 100 297586\n",
      "Stairway To Heaven Led Zeppelin IV Rock 93 100 481567\n",
      "Strangers in the Night Frank Sinatra Greatest Hits Easy Listening 42 100 158484\n",
      "Summer Nights Various Grease Soundtrack 35 100 216973\n",
      "Summer Wind Frank Sinatra Greatest Hits Easy Listening 46 100 177554\n",
      "Thats Life Frank Sinatra Greatest Hits Easy Listening 43 100 189988\n",
      "The Battle Of Evermore Led Zeppelin IV Rock 110 100 351529\n",
      "The Blues \"Is\" Bryan Lee Blues Is Blues/R&B 45 100 252238\n",
      "There it Is Bryan Lee Blues Is Blues/R&B 35 100 395441\n",
      "Think Bryan Lee Blues Is Blues/R&B 41 100 320339\n",
      "This Town Frank Sinatra Greatest Hits Easy Listening 44 100 185051\n",
      "Tin Man America Greatest Hits Easy Listening 50 100 210076\n",
      "Track 01 Billy Price Danger Zone Blues/R&B 47 100 261825\n",
      "Track 02 Billy Price Danger Zone Blues/R&B 42 100 165459\n",
      "Track 03 Billy Price Danger Zone Blues/R&B 41 100 206471\n",
      "Messin with the Kid The Canettes Blues Band Self Titled Blues/R&B 23 100 226377\n",
      "Track 04 Billy Price Danger Zone Blues/R&B 37 100 257175\n",
      "Stormy Monday The Canettes Blues Band Self Titled Blues/R&B 29 100 464143\n",
      "Track 05 Billy Price Danger Zone Blues/R&B 42 100 230295\n",
      "Waiting on Ice Bryan Lee Blues Is Blues/R&B 37 100 289384\n",
      "War Pigs/Luke's Wall Black Sabbath Paranoid Metal 38 100 478197\n",
      "We Are The Champions Queen Greatest Hits Rock 24 100 181864\n",
      "We Will Rock You Queen Greatest Hits Rock 33 100 123559\n",
      "When Somebody Loves You Frank Sinatra Greatest Hits Easy Listening 43 100 117263\n",
      "When The Levee Breaks Led Zeppelin IV Rock 83 100 427624\n",
      "You are the One that I Want Various Grease Soundtrack 31 100 169900\n",
      "You Done Me Wrong Bryan Lee Blues Is Blues/R&B 35 100 200097\n",
      "You Shook Me All Night Long AC/DC Who Made Who Rock 92 100 210938\n",
      "You're My Best Friend Queen Greatest Hits Rock 31 100 172643\n",
      "Zion Fluke The Matrix Reloaded Soundtrack 47 100 273528\n",
      "Who Made Who AC/DC Who Made Who Rock 110 100 207203\n",
      "D.T. AC/DC Who Made Who Rock 90 None 173714\n",
      "Sink the Pink AC/DC Who Made Who Rock 83 None 253466\n",
      "Ride On AC/DC Who Made Who Rock 75 None 351268\n",
      "Chase the Ace AC/DC Who Made Who Rock 93 None 181420\n",
      "Wollt Ihr Das Bett In Flammen Sehen Rammstein Herzeleid Industrial 50 None 317387\n",
      "Der Meister Rammstein Herzeleid Industrial 46 None 250801\n",
      "Weisses Fleisch Rammstein Herzeleid Industrial 52 None 215902\n",
      "Seemann Rammstein Herzeleid Industrial 34 None 288235\n",
      "Du Riechst So Gut Rammstein Herzeleid Industrial 50 None 289332\n",
      "Das Alte Leid Rammstein Herzeleid Industrial 46 None 344581\n",
      "Heirate Mich Rammstein Herzeleid Industrial 39 None 284734\n",
      "Herzeleid Rammstein Herzeleid Industrial 42 None 223425\n",
      "Baba O'Riley The Who Who's Next Rock 45 None 298448\n",
      "Bargain The Who Who's Next Rock 37 None 331676\n",
      "Love Ain't for Keeping The Who Who's Next Rock 24 None 130560\n",
      "My Wife The Who Who's Next Rock 17 None 213786\n",
      "The Song Is Over The Who Who's Next Rock 14 None 375797\n",
      "Getting In Tune The Who Who's Next Rock 27 None 288809\n",
      "Going Mobile The Who Who's Next Rock 28 100 221910\n",
      "Behind Blue Eyes The Who Who's Next Rock 43 None 221570\n",
      "Won't Get Fooled Again The Who Who's Next Rock 21 None 511111\n",
      "Folsom Prison Blues Johnny Cash The Legend Of Johnny Cash Country 47 100 170004\n",
      "I Walk The Line Johnny Cash The Legend Of Johnny Cash Country 33 100 165720\n",
      "Get Rhythm Johnny Cash The Legend Of Johnny Cash Country 35 100 134530\n",
      "Big River Johnny Cash The Legend Of Johnny Cash Country 51 None 152711\n",
      "Guess Things Happen That Way Johnny Cash The Legend Of Johnny Cash Country 35 None 111386\n",
      "Ring Of Fire Johnny Cash The Legend Of Johnny Cash Country 30 100 157100\n",
      "Jackson Johnny Cash The Legend Of Johnny Cash Country 35 100 166530\n",
      "A Boy Named Sue (live) Johnny Cash The Legend Of Johnny Cash Country 37 None 226063\n",
      "You Raise Me Up Selah Hiding Place Gospel & Religious 9 None 302262\n",
      "Hold On, I'm Coming The Canettes Blues Band On Tap & In the Can Blues/R&B 34 100 282566\n",
      "Got my Mojo Working The Canettes Blues Band On Tap & In the Can Blues/R&B 52 100 310517\n",
      "Sweet Home Chicago The Canettes Blues Band On Tap & In the Can Blues/R&B 27 100 375849\n",
      "Heavy Love The Canettes Blues Band On Tap & In the Can Blues/R&B 28 100 253544\n",
      "Cold Cold Feeling The Canettes Blues Band On Tap & In the Can Blues/R&B 43 100 261929\n",
      "Lonely Avenue The Canettes Blues Band On Tap & In the Can Blues/R&B 24 100 292022\n",
      "Good Morning Little Schoolgirl The Canettes Blues Band On Tap & In the Can Blues/R&B 20 100 278648\n",
      "Dust My Broom The Canettes Blues Band On Tap & In the Can Blues/R&B 24 100 299311\n",
      "Gimme' Some Lovin The Canettes Blues Band On Tap & In the Can Blues/R&B 35 100 227239\n",
      "Everybody Needs Somebody to Love The Canettes Blues Band On Tap & In the Can Blues/R&B 24 100 195186\n",
      "Black Magic Woman The Canettes Blues Band On Tap & In the Can Blues/R&B 31 100 442644\n",
      "Steppin' Rooster The Canettes Blues Band On Tap & In the Can Blues/R&B 21 100 704862\n",
      "Our Love is Drifting The Canettes Blues Band On Tap & In the Can Blues/R&B 15 100 292649\n",
      "Doin' 100 The Canettes Blues Band On Tap & In the Can Blues/R&B 20 100 343980\n",
      "Mother Joy Matt Ender Natural Wonders Music Sampler 1999 New Age 463 None 287294\n",
      "Soldier's Lament Steve McDonald Natural Wonders Music Sampler 1999 New Age 371 None 347193\n",
      "Dulaman Altan Natural Wonders Music Sampler 1999 New Age 403 None 223007\n",
      "The Arrow Chris Spheeris Natural Wonders Music Sampler 1999 New Age 416 None 319869\n",
      "Spanish Eyes La Esperanza Natural Wonders Music Sampler 1999 New Age 375 None 259030\n",
      "Banana Bay Luis Villegas Natural Wonders Music Sampler 1999 New Age 403 None 198060\n",
      "Aguas De Marco Rosa Passos Natural Wonders Music Sampler 1999 New Age 407 None 179408\n",
      "Tamborea Energipsy Natural Wonders Music Sampler 1999 New Age 355 None 235389\n",
      "Gone Hollie Smith Natural Wonders Music Sampler 1999 New Age 362 None 196414\n",
      "The Immigrant Joanie Madden Natural Wonders Music Sampler 1999 New Age 350 None 362631\n"
     ]
    },
    {
     "name": "stdout",
     "output_type": "stream",
     "text": [
      "Pahrump-Big Water Cusco Natural Wonders Music Sampler 1999 New Age 342 None 191634\n",
      "Seeker's Quest Cheryl Gunn Natural Wonders Music Sampler 1999 New Age 337 None 236434\n",
      "Floating To Forever Dean Everson Natural Wonders Music Sampler 1999 New Age 337 None 351686\n",
      "Open Road Jeff Bailey Relaxing Jazz Jazz 10 None 318563\n",
      "Ruby Kaiser Chiefs Yours Truly, Angry Mob Alternative & Punk 13 None 205008\n",
      "The Angry Mob Kaiser Chiefs Yours Truly, Angry Mob Alternative & Punk 41 None 288313\n",
      "Heat Dies Down Kaiser Chiefs Yours Truly, Angry Mob Alternative & Punk 12 None 237061\n",
      "Highroyds Kaiser Chiefs Yours Truly, Angry Mob Alternative & Punk 10 None 199575\n",
      "Love's Not A Competition (But I'm Winning) Kaiser Chiefs Yours Truly, Angry Mob Alternative & Punk 11 None 197799\n",
      "Thank You Very Much Kaiser Chiefs Yours Truly, Angry Mob Alternative & Punk 11 None 157753\n",
      "I Can Do It Without You Kaiser Chiefs Yours Truly, Angry Mob Alternative & Punk 11 None 204199\n",
      "My Kind Of Guy Kaiser Chiefs Yours Truly, Angry Mob Alternative & Punk 10 None 246595\n",
      "Everything Is Average Nowadays Kaiser Chiefs Yours Truly, Angry Mob Alternative & Punk 16 None 164754\n",
      "Learnt My Lesson Well Kaiser Chiefs Yours Truly, Angry Mob Alternative & Punk 9 None 325955\n",
      "Try Your Best Kaiser Chiefs Yours Truly, Angry Mob Alternative & Punk 8 None 222511\n",
      "Retirement Kaiser Chiefs Yours Truly, Angry Mob Alternative & Punk 10 None 237426\n",
      "The Angry Mob [Live From Berlin] Kaiser Chiefs Yours Truly, Angry Mob Alternative & Punk 40 None 279066\n",
      "I Like To Fight Kaiser Chiefs Yours Truly, Angry Mob Alternative & Punk 8 None 218566\n",
      "From The Neck Down Kaiser Chiefs Yours Truly, Angry Mob Alternative & Punk 15 None 147226\n",
      "The Wisdom of Crowds: Why the Many Are Smarter than the Few Part 1 of 3 James Surowiecki The Wisdom of Crowds: Why the Many Are Smarter than the Few (Abridged Nonfiction) Business 15 None 8586749\n",
      "The Wisdom of Crowds: Why the Many Are Smarter than the Few Part 2 of 3 James Surowiecki The Wisdom of Crowds: Why the Many Are Smarter than the Few (Abridged Nonfiction) Business 9 None 8443432\n",
      "The Wisdom of Crowds: Why the Many Are Smarter than the Few Part 3 of 3 James Surowiecki The Wisdom of Crowds: Why the Many Are Smarter than the Few (Abridged Nonfiction) Business 3 None 4168829\n",
      "The Wisdom of Crowds: Why the Many Are Smarter Than the Few (Unabridged) Part 1 of 5 James Surowiecki The Wisdom of Crowds: Why the Many Are Smarter Than the Few (Unabridged) Nonfiction 4 None 7920893\n",
      "The Wisdom of Crowds: Why the Many Are Smarter Than the Few (Unabridged) Part 2 of 5 James Surowiecki The Wisdom of Crowds: Why the Many Are Smarter Than the Few (Unabridged) Nonfiction None None 7921106\n",
      "The Wisdom of Crowds: Why the Many Are Smarter Than the Few (Unabridged) Part 3 of 5 James Surowiecki The Wisdom of Crowds: Why the Many Are Smarter Than the Few (Unabridged) Nonfiction None None 7965736\n",
      "The Wisdom of Crowds: Why the Many Are Smarter Than the Few (Unabridged) Part 4 of 5 James Surowiecki The Wisdom of Crowds: Why the Many Are Smarter Than the Few (Unabridged) Nonfiction 1 None 9653330\n",
      "The Wisdom of Crowds: Why the Many Are Smarter Than the Few (Unabridged) Part 5 of 5 James Surowiecki The Wisdom of Crowds: Why the Many Are Smarter Than the Few (Unabridged) Nonfiction None None 746536\n",
      "Misty David Osborne Moonlight And Love Songs Classical 302 None 249312\n",
      "My Funny Valentine David Osborne Moonlight And Love Songs Classical 301 None 235885\n",
      "Since I Don't Have You David Osborne Moonlight And Love Songs Classical 288 None 251846\n",
      "Tenderly David Osborne Moonlight And Love Songs Classical 284 None 227395\n",
      "When I Fall In Love David Osborne Moonlight And Love Songs Classical 281 None 187768\n",
      "Unforgettable David Osborne Moonlight And Love Songs Classical 280 None 272927\n",
      "The Way You Look Tonight David Osborne Moonlight And Love Songs Classical 277 None 247222\n",
      "I've Grown Accustomed To Your Face David Osborne Moonlight And Love Songs Classical 280 None 148035\n",
      "Smoke Gets In Your Eyes David Osborne Moonlight And Love Songs Classical 277 None 198504\n",
      "Fly Me To The Moon David Osborne Moonlight And Love Songs Classical 275 None 182543\n",
      "Unchained Melody David Osborne Moonlight And Love Songs Classical 265 None 259369\n",
      "These Foolish Things Remind Me Of You David Osborne Moonlight And Love Songs Classical 267 None 184711\n",
      "La Vie En Rose David Osborne Moonlight And Love Songs Classical 259 None 276767\n",
      "As Time Goes By David Osborne Moonlight And Love Songs Classical 290 None 257985\n",
      "Pilot Fairly Legal Fairly Legal, Season 1 Drama 1 None 3847006\n",
      "hte postal service - the impor The Postal Service unreleased demo Electronic None None 193959\n",
      "Winter Wonderland Bing Crosby Seasons Greatings Holiday 163 None 144744\n",
      "Jingle Bells Frank Sinatra Seasons Greatings Holiday 271 None 121756\n",
      "White Christmas Bing Crosby Seasons Greatings Holiday 158 None 95634\n",
      "The Christmas Song Frank Sinatra Seasons Greatings Holiday 272 None 209632\n",
      "Little Drummer Boy Bing Crosby Seasons Greatings Holiday 154 None 178311\n",
      "Silent Night Frank Sinatra Seasons Greatings Holiday 257 None 149054\n",
      "Let It Snow Bing Crosby Seasons Greatings Holiday 154 None 125126\n",
      "Mistletoe And Holly Frank Sinatra Seasons Greatings Holiday 257 None 138501\n",
      "O Holy Night Bing Crosby Seasons Greatings Holiday 150 None 214021\n",
      "Have Yourself A Merry Little Christmas Frank Sinatra Seasons Greatings Holiday 252 None 208248\n",
      "Do You Hear What I Hear Bing Crosby Seasons Greatings Holiday 155 None 164728\n",
      "I'll Be Home For Christmas Frank Sinatra Seasons Greatings Holiday 249 None 190876\n",
      "Voices Disturbed The Sickness Alternative None None 191764\n",
      "The Game Disturbed The Sickness Alternative 1 None 227134\n",
      "Stupify Disturbed The Sickness Alternative 1 None 274233\n",
      "Down With The Sickness Disturbed The Sickness Alternative 1 None 278726\n",
      "Violence Fetish Disturbed The Sickness Alternative None None 203833\n",
      "Fear Disturbed The Sickness Alternative 4 None 227004\n",
      "Numb Disturbed The Sickness Alternative None None 224940\n",
      "Want Disturbed The Sickness Alternative None None 232803\n",
      "Conflict Disturbed The Sickness Alternative 5 None 275330\n",
      "Shout 2000 Disturbed The Sickness Alternative 1 None 257802\n",
      "Droppin' Plates Disturbed The Sickness Alternative 4 None 229302\n",
      "Meaning Of Life Disturbed The Sickness Alternative 3 None 242599\n",
      "PY4INF-01-Intro.mp3 Recording by Dr. Chuck Python for Informatics's official Podcast. Podcast 1 None 3428075\n",
      "Eben Upton: Raspberry Pi IEEE Computer Society Computing Conversations Podcast 2 None 661368\n",
      "Andrew Tanenbaum: Writing the Book on Networks IEEE Computer Society Computing Conversations Podcast 4 None 535040\n",
      "Massimo Banzi: Building Arduino IEEE Computer Society Computing Conversations Podcast 1 None 567745\n",
      "PY4INF-04-Functions.mp3 Recording by Dr. Chuck Python for Informatics's official Podcast. Podcast None None 1683800\n",
      "PY4INF-02-Expressions.mp3 Recording by Dr. Chuck Python for Informatics's official Podcast. Podcast None None 2578416\n",
      "PY4INF-03-Conditional.mp3 Recording by Dr. Chuck Python for Informatics's official Podcast. Podcast None None 2296058\n",
      "PY4INF-05-Iterations.mp3 Recording by Dr. Chuck Python for Informatics's official Podcast. Podcast 1 None 2804297\n",
      "PY4INF-06-Strings.mp3 Recording by Dr. Chuck Python for Informatics's official Podcast. Podcast None None 1677844\n",
      "PY4INF-07-Files.mp3 Recording by Dr. Chuck Python for Informatics's official Podcast. Podcast None None 1478713\n",
      "PY4INF-08-Lists.mp3 Recording by Dr. Chuck Python for Informatics's official Podcast. Podcast None None 1636231\n",
      "PY4INF-09-Dictionaries.mp3 Recording by Dr. Chuck Python for Informatics's official Podcast. Podcast None None 2254445\n",
      "PY4INF-10-Tuples.mp3 Recording by Dr. Chuck Python for Informatics's official Podcast. Podcast None None 1597596\n",
      "PY4INF-11-Regex.mp3 Recording by Dr. Chuck Python for Informatics's official Podcast. Podcast None None 2123702\n",
      "John C. Hollar: History of Computing IEEE Computer Society Computing Conversations Podcast 1 None 694073\n",
      "Bob Metcalfe: Ethernet at Forty IEEE Computer Society Computing Conversations Podcast None None 1031392\n",
      "Gordon Bell: Building Blocks of Computing IEEE Computer Society Computing Conversations Podcast 1 None 744620\n",
      "Ian Horrocks: Standardizing OWL IEEE Computer Society Computing Conversations Podcast 1 None 572212\n",
      "Katie Hafner: The Origins of the Internet IEEE Computer Society Computing Conversations Podcast 1 None 652460\n"
     ]
    },
    {
     "name": "stdout",
     "output_type": "stream",
     "text": [
      "Larry Smarr: Building Mosaic IEEE Computer Society Computing Conversations Podcast None None 894693\n",
      "Len Kleinrock: The Theory of Packets IEEE Computer Society Computing Conversations Podcast 1 None 674742\n",
      "Mitchell Baker: The Mozilla Foundation IEEE Computer Society Computing Conversations Podcast None None 994246\n",
      "Pooja Sankar: Building the Piazza Collaboration System IEEE Computer Society Computing Conversations Podcast None None 496404\n",
      "Van Jacobson: Content-Centric Networking IEEE Computer Society Computing Conversations Podcast None None 780251\n",
      "The Apache Software Foundation IEEE Computer Society Computing Conversations Podcast None None 542484\n",
      "A Brief History of Packets IEEE Computer Society Computing Conversations Podcast None None 1004643\n",
      "Discovering JavaScript Object Notation IEEE Computer Society Computing Conversations Podcast None None 650971\n",
      "Inventing PHP IEEE Computer Society Computing Conversations Podcast None None 494915\n",
      "Monash Museum of Computing History IEEE Computer Society Computing Conversations Podcast None None 362657\n",
      "The Rise of JavaScript IEEE Computer Society Computing Conversations Podcast None None 526132\n",
      "Joseph Hardin: NCSA Mosaic IEEE Computer Society Computing Conversations Podcast None None 845635\n",
      "Len Kleinrock on the Internet's First Two Packets IEEE Computer Society Computing Conversations Podcast 1 None 594390\n",
      "Doug Van Houweling on Building the NSFNet IEEE Computer Society Computing Conversations Podcast None None 773146\n",
      "Computing Conversations: Nathaniel Borenstein on MIME IEEE Computer Society Computing Conversations Podcast None None 682135\n",
      "You Don't Mess Around With Jim Jim Croce Classic Hits Folk None None 184398\n",
      "Andrew S. Tanenbaum on MINIX IEEE Computer Society Computing Conversations Podcast None None 603000\n",
      "Computing Conversations: Elizabeth Fong on SQL Standards IEEE Computer Society Computing Conversations Podcast None None 533577\n",
      "Nii Quaynor on Bringing the Internet to Africa IEEE Computer Society Computing Conversations Podcast 1 None 673332\n",
      "PHP-09-Transactions.mp3 Created by Sakai SI 664 W14's official Podcast. Podcast None None 1728888\n",
      "PHP-01-Intro.mp3 Created by Sakai SI 664 W14's official Podcast. Podcast None None 2250624\n",
      "PHP-02-Install.mp3 Created by Sakai SI 664 W14's official Podcast. Podcast 1 None None\n",
      "PHP-04-Expressions.mp3 Created by Sakai SI 664 W14's official Podcast. Podcast None None 2168064\n",
      "PHP-05-Functions.mp3 Created by Sakai SI 664 W14's official Podcast. Podcast None None 1446792\n",
      "PHP-06-Strings.mp3 Created by Sakai SI 664 W14's official Podcast. Podcast None None 417696\n",
      "PHP-12-Sessions.mp3 Created by Sakai SI 664 W14's official Podcast. Podcast None None 3624312\n",
      "PHP-06-Objects.mp3 Created by Sakai SI 664 W14's official Podcast. Podcast None None 2455368\n",
      "SI664-13-JSON-A.mp3 Created by Sakai SI 664 W14's official Podcast. Podcast None None 4407672\n",
      "PHP-13-JavaScript.mp3 Created by Sakai SI 664 W14's official Podcast. Podcast None None 3650088\n",
      "PHP-09-Database-Design.mp3 Created by Sakai SI 664 W14's official Podcast. Podcast None None 3591072\n",
      "PHP-Tsugi-Install.mp3 Created by Sakai SI 664 W14's official Podcast. Podcast None None 3181656\n",
      "PHP-10-MySQL-PDO.mp3 Created by Sakai SI 664 W14's official Podcast. Podcast None None 4536685\n",
      "PHP-08-MySQL.mp3 Created by Sakai SI 664 W14's official Podcast. Podcast None None 3994656\n",
      "SI664-13-JSON-B.mp3 Created by Sakai SI 664 W14's official Podcast. Podcast None None 1484616\n",
      "IMS-Learning-Tools-Interoperability.mp3 Created by Sakai SI 664 W14's official Podcast. Podcast None None 2185848\n",
      "An Interview with Don Waters Matt Pasiewicz CNI Event Coverage Speech 2 None 1411082\n",
      "PY4INF-11-Regex.mp3 Recording by Dr. Chuck Python for Informatics's official Podcast. Podcast None None 2123702\n",
      "PY4INF-10-Tuples.mp3 Recording by Dr. Chuck Python for Informatics's official Podcast. Podcast None None 1597596\n",
      "PY4INF-09-Dictionaries.mp3 Recording by Dr. Chuck Python for Informatics's official Podcast. Podcast None None 2254445\n",
      "PY4INF-08-Lists.mp3 Recording by Dr. Chuck Python for Informatics's official Podcast. Podcast None None 1636231\n",
      "PY4INF-07-Files.mp3 Recording by Dr. Chuck Python for Informatics's official Podcast. Podcast None None 1478713\n",
      "PY4INF-06-Strings.mp3 Recording by Dr. Chuck Python for Informatics's official Podcast. Podcast None None 1677844\n",
      "PY4INF-05-Iterations.mp3 Recording by Dr. Chuck Python for Informatics's official Podcast. Podcast None None 2804297\n",
      "PY4INF-04-Functions.mp3 Recording by Dr. Chuck Python for Informatics's official Podcast. Podcast None None 1683800\n",
      "PY4INF-03-Conditional.mp3 Recording by Dr. Chuck Python for Informatics's official Podcast. Podcast None None 2296058\n",
      "PY4INF-02-Expressions.mp3 Recording by Dr. Chuck Python for Informatics's official Podcast. Podcast None None 2578416\n",
      "PY4INF-01-Intro.mp3 Recording by Dr. Chuck Python for Informatics's official Podcast. Podcast None None 3428075\n",
      "Py4Inf-11-Regex.mp3 Recording by Dr. Chuck Python for Informatics's official Podcast. Podcast None None 2123702\n",
      "Py4Inf-10-Tuples.mp3 Recording by Dr. Chuck Python for Informatics's official Podcast. Podcast None None 1597596\n",
      "Py4Inf-09-Dictionaries.mp3 Recording by Dr. Chuck Python for Informatics's official Podcast. Podcast None None 2254445\n",
      "Py4Inf-08-Lists.mp3 Recording by Dr. Chuck Python for Informatics's official Podcast. Podcast None None 1636231\n",
      "Py4Inf-07-Files.mp3 Recording by Dr. Chuck Python for Informatics's official Podcast. Podcast None None 1478713\n",
      "Py4Inf-06-Strings.mp3 Recording by Dr. Chuck Python for Informatics's official Podcast. Podcast None None 1677844\n",
      "Py4Inf-05-Iterations.mp3 Recording by Dr. Chuck Python for Informatics's official Podcast. Podcast None None 2804297\n",
      "Py4Inf-04-Functions.mp3 Recording by Dr. Chuck Python for Informatics's official Podcast. Podcast None None 1683800\n",
      "Py4Inf-03-Conditional.mp3 Recording by Dr. Chuck Python for Informatics's official Podcast. Podcast None None 2296058\n",
      "Py4Inf-02-Expressions.mp3 Recording by Dr. Chuck Python for Informatics's official Podcast. Podcast None None 2578416\n",
      "Py4Inf-01-Intro.mp3 Recording by Dr. Chuck Python for Informatics's official Podcast. Podcast None None 3428075\n",
      "Ian Foster on the Globus Project IEEE Computer Society Computing Conversations Podcast 1 None 538305\n",
      "Khan Academy and Computer Science IEEE Computer Society Computing Conversations Podcast 1 None 558837\n",
      "Guido van Rossumon the Early Years of Python IEEE Computer Society Computing Conversations Podcast 1 None 701884\n",
      "Guido van Rossum on the Modern Era of Python IEEE Computer Society Computing Conversations Podcast None None 741616\n",
      "John Resig on Building jQuery IEEE Computer Society Computing Conversations Podcast None None 595983\n",
      "Roy T. Fielding on Understanding the REST Style IEEE Computer Society Computing Conversations Podcast 1 None 683650\n",
      "Anil Jain: 25 Years of Biometric Recognition IEEE Computer Society Computing Conversations Podcast None None 661368\n",
      "Waste Management Undercover Boss Undercover Boss, Season 1 Reality TV 1 None 2565232\n",
      "Sleep Like a Baby Tonight U2 Songs of Innocence Rock None None 301641\n",
      "Evergreen The Black Crowes Warpaint Rock None None 261373\n",
      "Oh Josephine The Black Crowes Warpaint Rock None None 398907\n",
      "Movin' On Down the Line The Black Crowes Warpaint Rock None None 342693\n",
      "Wounded Bird The Black Crowes Warpaint Rock None None 263453\n",
      "Volcano U2 Songs of Innocence Rock None None 194116\n",
      "Wee Who See the Deep The Black Crowes Warpaint Rock None None 290520\n",
      "Cedarwood Road U2 Songs of Innocence Rock None None 265268\n",
      "Locust Street The Black Crowes Warpaint Rock None None 255240\n",
      "Raised By Wolves U2 Songs of Innocence Rock None None 245599\n",
      "The Troubles U2 Songs of Innocence Rock None None 285843\n",
      "This Is Where You Can Reach Me Now U2 Songs of Innocence Rock None None 305134\n",
      "God's Got It The Black Crowes Warpaint Rock None None 202653\n",
      "California (There Is No End to Love) U2 Songs of Innocence Rock None None 239846\n",
      "Every Breaking Wave U2 Songs of Innocence Rock None None 252162\n",
      "Interview With the Onion News Network Onion News Network Onion News Network, Season 1 Comedy 1 None 302002\n",
      "Song for Someone U2 Songs of Innocence Rock None None 226763\n",
      "The Miracle (Of Joey Ramone) U2 Songs of Innocence Rock None None 255382\n"
     ]
    },
    {
     "name": "stdout",
     "output_type": "stream",
     "text": [
      "Iris (Hold Me Close) U2 Songs of Innocence Rock None None 319457\n",
      "Goodbye Daughters of the Revolution The Black Crowes Warpaint Rock None None 304147\n",
      "Walk Believer Walk The Black Crowes Warpaint Rock None None 280253\n",
      "Choice Hotels International Undercover Boss Undercover Boss, Season 2 Reality TV 1 None 2614047\n",
      "Microchip Jason Farnham YouTube Audio Library Dance & Electronic None None 114336\n",
      "Anant Agarwal IEEE Computer Society Computing Conversations Podcast None None 494000\n"
     ]
    }
   ],
   "source": [
    "import xml.etree.ElementTree as ET\n",
    "import sqlite3\n",
    "\n",
    "conn = sqlite3.connect('trackdb.sqlite')\n",
    "cur = conn.cursor()\n",
    "\n",
    "# Make some fresh tables using executescript()\n",
    "cur.executescript('''\n",
    "DROP TABLE IF EXISTS Artist;\n",
    "DROP TABLE IF EXISTS Genre;\n",
    "DROP TABLE IF EXISTS Album;\n",
    "DROP TABLE IF EXISTS Track;\n",
    "CREATE TABLE Artist (\n",
    "    id  INTEGER NOT NULL PRIMARY KEY AUTOINCREMENT UNIQUE,\n",
    "    name    TEXT UNIQUE\n",
    ");\n",
    "CREATE TABLE Genre (\n",
    "    id  INTEGER NOT NULL PRIMARY KEY AUTOINCREMENT UNIQUE,\n",
    "    name    TEXT UNIQUE\n",
    ");\n",
    "CREATE TABLE Album (\n",
    "    id  INTEGER NOT NULL PRIMARY KEY AUTOINCREMENT UNIQUE,\n",
    "    artist_id  INTEGER,\n",
    "    title   TEXT UNIQUE\n",
    ");\n",
    "CREATE TABLE Track (\n",
    "    id  INTEGER NOT NULL PRIMARY KEY\n",
    "        AUTOINCREMENT UNIQUE,\n",
    "    title TEXT  UNIQUE,\n",
    "    album_id  INTEGER,\n",
    "    genre_id INTEGER,\n",
    "    len INTEGER, rating INTEGER, count INTEGER\n",
    ");\n",
    "''')\n",
    "\n",
    "\n",
    "file_name = input('Enter file name: ')\n",
    "if len(file_name) < 1:\n",
    "    file_name = 'Library.myxml'\n",
    "\n",
    "# <key>Track ID</key><integer>369</integer>\n",
    "# <key>Name</key><string>Another One Bites The Dust</string>\n",
    "# <key>Artist</key><string>Queen</string>\n",
    "def lookup(d, key):\n",
    "    found = False\n",
    "    for child in d:\n",
    "        if found:\n",
    "            return child.text\n",
    "        if child.tag == 'key' and child.text == key:\n",
    "            found = True\n",
    "    return None\n",
    "\n",
    "stuff = ET.parse(file_name)\n",
    "text = stuff.findall('dict/dict/dict')\n",
    "print('Dict count:', len(text))\n",
    "\n",
    "for entry in text:\n",
    "    if lookup(entry, 'Track ID') is None:\n",
    "        continue\n",
    "\n",
    "    name = lookup(entry, 'Name')\n",
    "    artist = lookup(entry, 'Artist')\n",
    "    album = lookup(entry, 'Album')\n",
    "    genre = lookup(entry, 'Genre')\n",
    "    count = lookup(entry, 'Play Count')\n",
    "    rating = lookup(entry, 'Rating')\n",
    "    length = lookup(entry, 'Total Time')\n",
    "\n",
    "    if name is None or artist is None or genre is None or album is None:\n",
    "        continue\n",
    "\n",
    "    print(name, artist, album, genre, count, rating, length)\n",
    "\n",
    "    cur.execute('''INSERT OR IGNORE INTO Artist (name)\n",
    "        VALUES ( ? )''', (artist,))\n",
    "    cur.execute('SELECT id FROM Artist WHERE name = ? ', (artist,))\n",
    "    artist_id = cur.fetchone()[0]\n",
    "\n",
    "    cur.execute('''INSERT OR IGNORE INTO Genre (name)\n",
    "    VALUES ( ? )''', (genre,))\n",
    "    cur.execute('SELECT id FROM Genre WHERE name = ? ', (genre,))\n",
    "    genre_id = cur.fetchone()[0]\n",
    "\n",
    "    cur.execute('''INSERT OR IGNORE INTO Album (title, artist_id)\n",
    "        VALUES ( ?, ? )''', ( album, artist_id))\n",
    "    cur.execute('SELECT id FROM Album WHERE title = ? ', (album,))\n",
    "    album_id = cur.fetchone()[0]\n",
    "\n",
    "    cur.execute('''INSERT OR REPLACE INTO Track\n",
    "        (title, album_id, genre_id, len, rating, count)\n",
    "        VALUES ( ?, ?, ?, ?, ?, ? )''',\n",
    "        (name, album_id, genre_id, length, rating, count))\n",
    "\n",
    "    conn.commit()\n"
   ]
  },
  {
   "cell_type": "markdown",
   "metadata": {},
   "source": [
    "Database with Python: Roster Database"
   ]
  },
  {
   "cell_type": "code",
   "execution_count": 4,
   "metadata": {},
   "outputs": [
    {
     "name": "stdout",
     "output_type": "stream",
     "text": [
      "Enter file name: roster_data_sample.json\n"
     ]
    },
    {
     "data": {
      "text/plain": [
       "<sqlite3.Cursor at 0x24af7d8f8f0>"
      ]
     },
     "execution_count": 4,
     "metadata": {},
     "output_type": "execute_result"
    }
   ],
   "source": [
    "import json\n",
    "import sqlite3\n",
    "\n",
    "conn = sqlite3.connect('rosterdb.sqlite')\n",
    "cur = conn.cursor()\n",
    "\n",
    "# Do some setup\n",
    "cur.executescript('''\n",
    "DROP TABLE IF EXISTS User;\n",
    "DROP TABLE IF EXISTS Member;\n",
    "DROP TABLE IF EXISTS Course;\n",
    "CREATE TABLE User (\n",
    "    id     INTEGER NOT NULL PRIMARY KEY AUTOINCREMENT UNIQUE,\n",
    "    name   TEXT UNIQUE\n",
    ");\n",
    "CREATE TABLE Course (\n",
    "    id     INTEGER NOT NULL PRIMARY KEY AUTOINCREMENT UNIQUE,\n",
    "    title  TEXT UNIQUE\n",
    ");\n",
    "CREATE TABLE Member (\n",
    "    user_id     INTEGER,\n",
    "    course_id   INTEGER,\n",
    "    role        INTEGER,\n",
    "    PRIMARY KEY (user_id, course_id)\n",
    ")\n",
    "''')\n",
    "\n",
    "file_name = input('Enter file name: ')\n",
    "if len(file_name) < 1:\n",
    "    file_name = 'roster_data_sample.json'\n",
    "\n",
    "\n",
    "str_data = open(file_name).read()\n",
    "json_data = json.loads(str_data)\n",
    "\n",
    "for entry in json_data:\n",
    "\n",
    "    name = entry[0]\n",
    "    title = entry[1]\n",
    "    role_id = entry[2]\n",
    "\n",
    "    cur.execute('''INSERT OR IGNORE INTO User (name)\n",
    "        VALUES ( ? )''', (name,))\n",
    "    cur.execute('SELECT id FROM User WHERE name = ? ', (name,))\n",
    "    user_id = cur.fetchone()[0]\n",
    "\n",
    "    cur.execute('''INSERT OR IGNORE INTO Course (title)\n",
    "        VALUES ( ? )''', (title,))\n",
    "    cur.execute('SELECT id FROM Course WHERE title = ? ', (title,))\n",
    "    course_id = cur.fetchone()[0]\n",
    "\n",
    "    cur.execute('''INSERT OR REPLACE INTO Member\n",
    "        (user_id, course_id, role) VALUES ( ?, ?, ? )''',\n",
    "        (user_id, course_id, role_id))\n",
    "\n",
    "conn.commit()\n",
    "\n",
    "cur.executescript('''\n",
    "    SELECT hex(User.name || Course.title || Member.role ) AS X FROM\n",
    "    User JOIN Member JOIN Course\n",
    "    ON User.id = Member.user_id AND Member.course_id = Course.id\n",
    "    ORDER BY X\n",
    "''')\n"
   ]
  },
  {
   "cell_type": "markdown",
   "metadata": {},
   "source": [
    "Visualizing Data: Geodata"
   ]
  },
  {
   "cell_type": "code",
   "execution_count": null,
   "metadata": {},
   "outputs": [],
   "source": [
    "import urllib.request, urllib.parse, urllib.error\n",
    "import sqlite3\n",
    "import json\n",
    "import time\n",
    "import ssl\n",
    "\n",
    "api_key = False\n",
    "if api_key is False:\n",
    "    api_key = 42\n",
    "    service_url = \"http://py4e-data.dr-chuck.net/json?\"\n",
    "else:\n",
    "    service_url = \"https://maps.googleapis.com/maps/api/geocode/json?\"\n",
    "\n",
    "\n",
    "\n",
    "conn = sqlite3.connect('geodata.sqlite')\n",
    "cur = conn.cursor()\n",
    "cur.execute('''\n",
    "CREATE TABLE IF NOT EXISTS Locations (address TEXT, geodata TEXT)''')\n",
    "\n",
    "# Ignore SSL certificate errors\n",
    "ctx = ssl.create_default_context()\n",
    "ctx.check_hostname = False\n",
    "ctx.verify_mode = ssl.CERT_NONE\n",
    "\n",
    "fh = open(\"where.data\")\n",
    "count = 0\n",
    "for line in fh:\n",
    "    if count > 200:\n",
    "        print('Retrieved 200 locations, restart to retrieve more')\n",
    "        break\n",
    "\n",
    "    address = line.strip()\n",
    "    print('')\n",
    "    cur.execute(\"SELECT geodata FROM Locations WHERE address= ?\", (memoryview(address.encode()), ))\n",
    "\n",
    "    try:\n",
    "        data = cur.fetchone()[0]\n",
    "        print(\"Found in database \", address)\n",
    "        continue\n",
    "    except:\n",
    "        pass\n",
    "\n",
    "    parms = dict()\n",
    "    parms[\"address\"] = address\n",
    "    if api_key is not False:\n",
    "        parms['key'] = api_key\n",
    "    url = service_url + urllib.parse.urlencode(parms)\n",
    "\n",
    "    print('Retrieving', url)\n",
    "    uh = urllib.request.urlopen(url, context=ctx)\n",
    "    data = uh.read().decode()\n",
    "    print('Retrieved', len(data), 'characters', data[:20].replace('\\n', ' '))\n",
    "    count = count + 1\n",
    "\n",
    "    try:\n",
    "        js = json.loads(data)\n",
    "    except:\n",
    "        print(data)  # We print in case unicode causes an error\n",
    "        continue\n",
    "\n",
    "    if 'status' not in js or (js['status'] != 'OK' and js['status'] != 'ZERO_RESULTS'):\n",
    "        print('==== Failure To Retrieve ====')\n",
    "        print(data)\n",
    "        break\n",
    "\n",
    "    cur.execute('''INSERT INTO Locations (address, geodata)\n",
    "            VALUES ( ?, ? )''', (memoryview(address.encode()), memoryview(data.encode())))\n",
    "    conn.commit()\n",
    "    if count % 10 == 0:\n",
    "        print('Pausing for a bit...')\n",
    "        time.sleep(5)\n",
    "\n",
    "print(\"Run geodump.py to read the data from the database so you can vizualize it on a map.\")\n"
   ]
  },
  {
   "cell_type": "code",
   "execution_count": null,
   "metadata": {},
   "outputs": [],
   "source": []
  }
 ],
 "metadata": {
  "kernelspec": {
   "display_name": "Python 3",
   "language": "python",
   "name": "python3"
  },
  "language_info": {
   "codemirror_mode": {
    "name": "ipython",
    "version": 3
   },
   "file_extension": ".py",
   "mimetype": "text/x-python",
   "name": "python",
   "nbconvert_exporter": "python",
   "pygments_lexer": "ipython3",
   "version": "3.7.7"
  }
 },
 "nbformat": 4,
 "nbformat_minor": 4
}
